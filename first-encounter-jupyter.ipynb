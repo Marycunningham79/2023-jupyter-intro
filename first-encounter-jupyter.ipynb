{
 "cells": [
  {
   "cell_type": "markdown",
   "id": "1fc2cf67",
   "metadata": {},
   "source": [
    "# Working with iPython notebooks \n",
    "\n",
    "### Code vs. Markup\n",
    "\n",
    "Let's explore these basic concepts in this notebook"
   ]
  },
  {
   "cell_type": "code",
   "execution_count": 3,
   "id": "64ce3f1c",
   "metadata": {},
   "outputs": [
    {
     "name": "stdout",
     "output_type": "stream",
     "text": [
      "Hello World\n"
     ]
    }
   ],
   "source": [
    "# Traditional kick off for learning to code\n",
    "print(\"Hello World\")"
   ]
  },
  {
   "cell_type": "code",
   "execution_count": 4,
   "id": "41c70919",
   "metadata": {},
   "outputs": [
    {
     "name": "stdout",
     "output_type": "stream",
     "text": [
      "Python 3.9.13\r\n"
     ]
    }
   ],
   "source": [
    "## check what version of Python I have on my computer\n",
    "!python --version"
   ]
  },
  {
   "cell_type": "code",
   "execution_count": 6,
   "id": "bba972f5",
   "metadata": {},
   "outputs": [
    {
     "data": {
      "text/plain": [
       "4"
      ]
     },
     "execution_count": 6,
     "metadata": {},
     "output_type": "execute_result"
    }
   ],
   "source": [
    "## Validating addition\n",
    "2 + 2"
   ]
  },
  {
   "cell_type": "code",
   "execution_count": 7,
   "id": "1aad08d5",
   "metadata": {},
   "outputs": [
    {
     "data": {
      "text/plain": [
       "5.0"
      ]
     },
     "execution_count": 7,
     "metadata": {},
     "output_type": "execute_result"
    }
   ],
   "source": [
    "##simple division\n",
    "25 / 5"
   ]
  },
  {
   "cell_type": "code",
   "execution_count": 8,
   "id": "cc521489",
   "metadata": {},
   "outputs": [
    {
     "data": {
      "text/plain": [
       "1"
      ]
     },
     "execution_count": 8,
     "metadata": {},
     "output_type": "execute_result"
    }
   ],
   "source": [
    "## modulus\n",
    "\n",
    "25 % 2"
   ]
  },
  {
   "cell_type": "markdown",
   "id": "104fb9f3",
   "metadata": {},
   "source": [
    "## List of favorite fruit\n",
    "\n",
    "Here are Mary's favorite fruits\n",
    "\n",
    "* Apples\n",
    "* Oranges\n",
    "* Bananas\n",
    "\n",
    "## Source of data: \n",
    "I found this data on the <a href=\"https://www.uscensus.gov\">us census site.\n",
    "\n",
    "Another way would be to provide the [link like this](https://www.uscensus.gov) \n"
   ]
  },
  {
   "cell_type": "code",
   "execution_count": null,
   "id": "1eeb52b5",
   "metadata": {},
   "outputs": [],
   "source": []
  }
 ],
 "metadata": {
  "kernelspec": {
   "display_name": "Python 3 (ipykernel)",
   "language": "python",
   "name": "python3"
  },
  "language_info": {
   "codemirror_mode": {
    "name": "ipython",
    "version": 3
   },
   "file_extension": ".py",
   "mimetype": "text/x-python",
   "name": "python",
   "nbconvert_exporter": "python",
   "pygments_lexer": "ipython3",
   "version": "3.9.13"
  }
 },
 "nbformat": 4,
 "nbformat_minor": 5
}
